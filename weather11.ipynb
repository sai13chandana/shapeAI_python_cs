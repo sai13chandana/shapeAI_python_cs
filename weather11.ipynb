{
  "nbformat": 4,
  "nbformat_minor": 0,
  "metadata": {
    "colab": {
      "name": "weather11.ipynb",
      "provenance": []
    },
    "kernelspec": {
      "name": "python3",
      "display_name": "Python 3"
    },
    "language_info": {
      "name": "python"
    }
  },
  "cells": [
    {
      "cell_type": "code",
      "metadata": {
        "id": "3TTKOJ-XgDqY"
      },
      "source": [
        "import requests"
      ],
      "execution_count": 1,
      "outputs": []
    },
    {
      "cell_type": "code",
      "metadata": {
        "id": "uWHKRpFtgNfH"
      },
      "source": [
        "from datetime import datetime"
      ],
      "execution_count": 2,
      "outputs": []
    },
    {
      "cell_type": "code",
      "metadata": {
        "id": "XIwfvl2KgPpf"
      },
      "source": [
        "api_key= '1fe2092681781e893a5040454b688070'"
      ],
      "execution_count": 3,
      "outputs": []
    },
    {
      "cell_type": "code",
      "metadata": {
        "colab": {
          "base_uri": "https://localhost:8080/"
        },
        "id": "WZgF8VTfgSFg",
        "outputId": "fec6ec0d-106f-462c-dd3b-c83fe0ab5e9a"
      },
      "source": [
        "location = input(\"enter the city name:\")"
      ],
      "execution_count": 11,
      "outputs": [
        {
          "output_type": "stream",
          "text": [
            "enter the city name:delhi\n"
          ],
          "name": "stdout"
        }
      ]
    },
    {
      "cell_type": "code",
      "metadata": {
        "id": "3_BPZ_qYgUi_"
      },
      "source": [
        "complete_api_link = \"https://api.openweathermap.org/data/2.5/weather?q=\"+location+\"&appid=\"+api_key"
      ],
      "execution_count": 12,
      "outputs": []
    },
    {
      "cell_type": "code",
      "metadata": {
        "id": "mTCgHQsEgWhl"
      },
      "source": [
        "api_link = requests.get(complete_api_link)"
      ],
      "execution_count": 13,
      "outputs": []
    },
    {
      "cell_type": "code",
      "metadata": {
        "id": "_5qJT_70gY62"
      },
      "source": [
        "api_data = api_link.json()"
      ],
      "execution_count": 14,
      "outputs": []
    },
    {
      "cell_type": "code",
      "metadata": {
        "id": "Hyp0k9DygcqV"
      },
      "source": [
        "temp_city = ((api_data['main']['temp']))"
      ],
      "execution_count": 16,
      "outputs": []
    },
    {
      "cell_type": "code",
      "metadata": {
        "id": "uci6AIfOgfHl"
      },
      "source": [
        "weather_desc = api_data['weather'][0]['description']"
      ],
      "execution_count": 17,
      "outputs": []
    },
    {
      "cell_type": "code",
      "metadata": {
        "id": "iJ5wpf5Lghf1"
      },
      "source": [
        "hmdt =  api_data['main']['humidity']"
      ],
      "execution_count": 18,
      "outputs": []
    },
    {
      "cell_type": "code",
      "metadata": {
        "id": "dFDPa5xJgj3X"
      },
      "source": [
        "wind_spd = api_data['wind']['speed']"
      ],
      "execution_count": 19,
      "outputs": []
    },
    {
      "cell_type": "code",
      "metadata": {
        "id": "CEC-NYhAgl62"
      },
      "source": [
        "date_time = datetime.now().strftime(\"%d %b %Y | %I:%M:%S %P\")"
      ],
      "execution_count": 20,
      "outputs": []
    },
    {
      "cell_type": "code",
      "metadata": {
        "colab": {
          "base_uri": "https://localhost:8080/"
        },
        "id": "vll8GCWugoEF",
        "outputId": "90f37221-9d56-41b1-a258-1bc57c980eee"
      },
      "source": [
        "print(\"--------------------------------------------------------------------------\")"
      ],
      "execution_count": 21,
      "outputs": [
        {
          "output_type": "stream",
          "text": [
            "--------------------------------------------------------------------------\n"
          ],
          "name": "stdout"
        }
      ]
    },
    {
      "cell_type": "code",
      "metadata": {
        "colab": {
          "base_uri": "https://localhost:8080/"
        },
        "id": "jyUAyMsmgqPt",
        "outputId": "3e3cf05a-3964-4550-aa2d-740d4cf10001"
      },
      "source": [
        "print(\"weather stats for - {} || {}\".format(location.upper(),date_time))\n"
      ],
      "execution_count": 22,
      "outputs": [
        {
          "output_type": "stream",
          "text": [
            "weather stats for - DELHI || 23 Jun 2021 | 03:55:24 pm\n"
          ],
          "name": "stdout"
        }
      ]
    },
    {
      "cell_type": "code",
      "metadata": {
        "colab": {
          "base_uri": "https://localhost:8080/"
        },
        "id": "MqgAo7D4gvZH",
        "outputId": "0c28eca3-2484-47ba-eab2-c6670afb5cbf"
      },
      "source": [
        "print(\"current temperature is: {:.2f} deg C\".format(temp_city))"
      ],
      "execution_count": 23,
      "outputs": [
        {
          "output_type": "stream",
          "text": [
            "current temperature is: 309.20 deg C\n"
          ],
          "name": "stdout"
        }
      ]
    },
    {
      "cell_type": "code",
      "metadata": {
        "colab": {
          "base_uri": "https://localhost:8080/"
        },
        "id": "nh6EQuMMg0sn",
        "outputId": "4a185ab2-a4f2-47ce-cd27-f6424a1116d1"
      },
      "source": [
        "print(\"current weather desc :\",weather_desc )"
      ],
      "execution_count": 24,
      "outputs": [
        {
          "output_type": "stream",
          "text": [
            "current weather desc : haze\n"
          ],
          "name": "stdout"
        }
      ]
    },
    {
      "cell_type": "code",
      "metadata": {
        "colab": {
          "base_uri": "https://localhost:8080/"
        },
        "id": "0ANr5U6Gg2hl",
        "outputId": "bdddc4a6-059b-4725-d816-1b007b055c60"
      },
      "source": [
        "print(\"current Humidity : \",hmdt, '%')"
      ],
      "execution_count": 25,
      "outputs": [
        {
          "output_type": "stream",
          "text": [
            "current Humidity :  38 %\n"
          ],
          "name": "stdout"
        }
      ]
    },
    {
      "cell_type": "code",
      "metadata": {
        "colab": {
          "base_uri": "https://localhost:8080/"
        },
        "id": "nR8Bv2bQg4Z2",
        "outputId": "a14f5ff5-5374-42f1-83ee-06276b2c1dfa"
      },
      "source": [
        "print(\"current wind speed: \",wind_spd,'kmph')"
      ],
      "execution_count": 26,
      "outputs": [
        {
          "output_type": "stream",
          "text": [
            "current wind speed:  2.06 kmph\n"
          ],
          "name": "stdout"
        }
      ]
    }
  ]
}